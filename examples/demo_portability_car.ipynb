{
 "cells": [
  {
   "cell_type": "code",
   "execution_count": 1,
   "metadata": {},
   "outputs": [],
   "source": [
    "from lalegpl.datasets.auto_weka import fetch_car\n",
    "from sklearn.metrics import accuracy_score, make_scorer\n",
    "from sklearn.preprocessing import LabelEncoder\n",
    "import pandas as pd\n",
    "from lalegpl.lib.weka import J48\n",
    "from lalegpl.lib.r import ArulesCBAClassifier \n",
    "from lale.operators import make_pipeline\n",
    "from lale.lib.lale import Hyperopt\n",
    "from lale.lib.sklearn import LogisticRegression, KNeighborsClassifier"
   ]
  },
  {
   "cell_type": "code",
   "execution_count": 2,
   "metadata": {},
   "outputs": [],
   "source": [
    "(X_train, y_train), (X_test, y_test) = fetch_car()\n",
    "y_name = y_train.name\n",
    "le = LabelEncoder()\n",
    "y_train = le.fit_transform(y_train)\n",
    "y_test = le.transform(y_test)\n",
    "\n",
    "y_train = pd.Series(y_train, name=y_name)\n",
    "y_test = pd.Series(y_test, name=y_name)"
   ]
  },
  {
   "cell_type": "code",
   "execution_count": 3,
   "metadata": {},
   "outputs": [
    {
     "name": "stdout",
     "output_type": "stream",
     "text": [
      "100%|█████████| 1/1 [00:01<00:00,  1.13s/trial, best loss: -0.7042112064560875]\n",
      "0.7277992277992278\n"
     ]
    }
   ],
   "source": [
    "planned_pipeline = make_pipeline(J48() | ArulesCBAClassifier() | LogisticRegression() | KNeighborsClassifier())\n",
    "\n",
    "clf = Hyperopt(estimator = planned_pipeline, max_evals = 1)\n",
    "best_pipeline = clf.fit(X_train, y_train)\n",
    "print(accuracy_score(y_test, best_pipeline.predict(X_test)))"
   ]
  }
 ],
 "metadata": {
  "kernelspec": {
   "display_name": "Python 3",
   "language": "python",
   "name": "python3"
  },
  "language_info": {
   "codemirror_mode": {
    "name": "ipython",
    "version": 3
   },
   "file_extension": ".py",
   "mimetype": "text/x-python",
   "name": "python",
   "nbconvert_exporter": "python",
   "pygments_lexer": "ipython3",
   "version": "3.6.5"
  }
 },
 "nbformat": 4,
 "nbformat_minor": 2
}
